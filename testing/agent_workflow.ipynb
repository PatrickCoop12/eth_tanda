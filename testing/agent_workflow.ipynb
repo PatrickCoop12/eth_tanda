{
 "cells": [
  {
   "cell_type": "code",
   "id": "initial_id",
   "metadata": {
    "collapsed": true,
    "ExecuteTime": {
     "end_time": "2025-02-05T04:33:44.276660Z",
     "start_time": "2025-02-05T04:33:42.202668Z"
    }
   },
   "source": [
    "from crewai import Agent, Task, Crew, LLM\n",
    "from crewai_tools import EXASearchTool\n",
    "from langchain_openai import ChatOpenAI\n",
    "from cdp_langchain.agent_toolkits import CdpToolkit\n",
    "from cdp_langchain.utils import CdpAgentkitWrapper\n"
   ],
   "outputs": [],
   "execution_count": 2
  },
  {
   "metadata": {},
   "cell_type": "code",
   "outputs": [],
   "execution_count": null,
   "source": [
    "# Defining logic for AI workflow\n",
    "tanda_agent = Agent(\n",
    "    role= ,\n",
    "    goal= ,\n",
    "    backstory= ,\n",
    "    llm= ,\n",
    "    tools= ,\n",
    ")"
   ],
   "id": "a5fcb009e66e93a6"
  }
 ],
 "metadata": {
  "kernelspec": {
   "display_name": "Python 3",
   "language": "python",
   "name": "python3"
  },
  "language_info": {
   "codemirror_mode": {
    "name": "ipython",
    "version": 2
   },
   "file_extension": ".py",
   "mimetype": "text/x-python",
   "name": "python",
   "nbconvert_exporter": "python",
   "pygments_lexer": "ipython2",
   "version": "2.7.6"
  }
 },
 "nbformat": 4,
 "nbformat_minor": 5
}
